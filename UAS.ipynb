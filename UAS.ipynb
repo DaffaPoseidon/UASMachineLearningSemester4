{
 "metadata": {
  "language_info": {
   "codemirror_mode": {
    "name": "ipython",
    "version": 3
   },
   "file_extension": ".py",
   "mimetype": "text/x-python",
   "name": "python",
   "nbconvert_exporter": "python",
   "pygments_lexer": "ipython3",
   "version": "3.9.1"
  },
  "orig_nbformat": 4,
  "kernelspec": {
   "name": "python3",
   "display_name": "Python 3.9.1 64-bit"
  },
  "interpreter": {
   "hash": "63fd5069d213b44bf678585dea6b12cceca9941eaf7f819626cde1f2670de90d"
  }
 },
 "nbformat": 4,
 "nbformat_minor": 2,
 "cells": [
  {
   "cell_type": "code",
   "execution_count": 15,
   "metadata": {},
   "outputs": [],
   "source": [
    "import tkinter as tk\n",
    "import PyPDF2\n",
    "from PIL import Image, ImageTk\n",
    "from tkinter.filedialog import askopenfile"
   ]
  },
  {
   "cell_type": "code",
   "execution_count": 26,
   "metadata": {},
   "outputs": [
    {
     "output_type": "stream",
     "name": "stdout",
     "text": [
      "What is Lorem Ipsum?\n \nLo\nrem Ipsum\n \nis simply dummy text of the printing and typesetting industry. Lorem Ipsum has \nbeen the industry's standard dummy text ever since the 1500s, when an unknown printer took \na galley of type and scrambled it to make a type specimen book. It has survi\nved not only five \ncenturies, but also the leap into electronic typesetting, remaining essentially unchanged. It was \npopularised in the 1960s with the release of Letraset sheets containing Lorem Ipsum passages, \nand more recently with desktop publishing soft\nware like Aldus PageMaker including versions of \nLorem Ipsum.\n \n \n\nFile sukses dimuat\n"
     ]
    }
   ],
   "source": [
    "root = tk.Tk()\n",
    "\n",
    "canvas =  tk.Canvas(root, width = 600, height = 300)\n",
    "canvas.grid(columnspan = 3, rowspan = 3)\n",
    "\n",
    "#logo\n",
    "logo = Image.open('logo.png')\n",
    "logo = ImageTk.PhotoImage(logo)\n",
    "logo_label = tk.Label(image = logo)\n",
    "logo_label.image = logo \n",
    "logo_label.grid(column = 1, row = 0)\n",
    "\n",
    "# #instructions\n",
    "instructions = tk.Label(root, text=\"Pilih file PDF dalam komputer Anda atau ekstrak semua teksnya\", font = \"Sylfaen\")\n",
    "instructions.grid(columnspan = 3, column = 0, row = 1)\n",
    "\n",
    "#Command\n",
    "def open_file():\n",
    "    browse_text.set(\"Sabar ...\")\n",
    "    file = askopenfile(parent = root, mode = 'rb', title = \"Pilih file\", filetype = [(\"File PDF\", \"*.pdf\")])\n",
    "    if file:\n",
    "        read_pdf = PyPDF2.PdfFileReader(file)\n",
    "        page = read_pdf.getPage(0)\n",
    "        page_content = page.extractText()\n",
    "        print(page_content)\n",
    "        print(\"File sukses dimuat\")\n",
    "\n",
    "        #text box\n",
    "        text_box = tk.Text(root, height = 10, width = 50, padx = 15, pady = 15)\n",
    "        text_box.insert(1.0, page_content)\n",
    "        text_box.grid(column = 1, row = 3)\n",
    "        text_box.tag_configure(\"center\", justify = \"center\")\n",
    "        text_box.tag_add(\"center\", 1.0, \"end\")\n",
    "\n",
    "        browse_text.set(\"Cari\")\n",
    "\n",
    "# browse button\n",
    "browse_text = tk.StringVar()\n",
    "browse_btn = tk.Button(root, textvariable = browse_text, command = lambda:open_file(), font = \"Sylfaen\", bg = \"#20bebe\", fg=\"white\", height = 2, width = 15)\n",
    "browse_text.set(\"Cari\")\n",
    "browse_btn.grid(column = 1, row = 2)\n",
    "\n",
    "canvas =  tk.Canvas(root, width = 600, height = 250)\n",
    "canvas.grid(columnspan = 3)\n",
    "\n",
    "root.mainloop()"
   ]
  },
  {
   "cell_type": "code",
   "execution_count": null,
   "metadata": {},
   "outputs": [],
   "source": []
  }
 ]
}